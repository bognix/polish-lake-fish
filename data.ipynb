{
 "cells": [
  {
   "cell_type": "code",
   "execution_count": 3,
   "metadata": {},
   "outputs": [
    {
     "name": "stderr",
     "output_type": "stream",
     "text": [
      "/Users/bognaflieger/opt/miniforge3/envs/ml-playground/lib/python3.11/site-packages/tqdm/auto.py:21: TqdmWarning: IProgress not found. Please update jupyter and ipywidgets. See https://ipywidgets.readthedocs.io/en/stable/user_install.html\n",
      "  from .autonotebook import tqdm as notebook_tqdm\n"
     ]
    }
   ],
   "source": [
    "from fastai.vision.all import *"
   ]
  },
  {
   "cell_type": "code",
   "execution_count": 1,
   "metadata": {},
   "outputs": [
    {
     "data": {
      "text/plain": [
       "'ab6dac06bc924c6fadb048d7abb2e7a8'"
      ]
     },
     "execution_count": 1,
     "metadata": {},
     "output_type": "execute_result"
    }
   ],
   "source": [
    "import os\n",
    "from dotenv import load_dotenv\n",
    "\n",
    "load_dotenv()\n",
    "BING_API_KEY = os.getenv(\"BING_API_KEY\")"
   ]
  },
  {
   "cell_type": "code",
   "execution_count": 4,
   "metadata": {},
   "outputs": [],
   "source": [
    "def search_images_bing(key, term, min_sz=128, max_images=150):    \n",
    "     params = {'q':term, 'count':max_images, 'min_height':min_sz, 'min_width':min_sz}\n",
    "     headers = {\"Ocp-Apim-Subscription-Key\":key}\n",
    "     search_url = \"https://api.bing.microsoft.com/v7.0/images/search\"\n",
    "     response = requests.get(search_url, headers=headers, params=params)\n",
    "     response.raise_for_status()\n",
    "     search_results = response.json()    \n",
    "     return L(search_results['value'])"
   ]
  },
  {
   "cell_type": "code",
   "execution_count": 7,
   "metadata": {},
   "outputs": [
    {
     "name": "stdout",
     "output_type": "stream",
     "text": [
      "Download images for Ctenopharyngodon idella\n",
      "\n",
      "\n",
      "Download images for Aspius aspius\n",
      "\n",
      "\n",
      "Download images for Barbus barbus\n",
      "\n",
      "\n",
      "Download images for Vimba vimba\n",
      "\n",
      "\n",
      "Download images for Leuciscus idus\n",
      "\n",
      "\n",
      "Download images for Leuciscus leuciscus\n",
      "\n",
      "\n",
      "Download images for Carassius carassius\n",
      "\n",
      "\n",
      "Download images for Carassius auratus gibelio\n",
      "\n",
      "\n",
      "Download images for Cyprinus carpio\n",
      "\n",
      "\n",
      "Download images for Gobio gobio\n",
      "\n",
      "\n",
      "Download images for Leuciscus cephalus\n",
      "\n",
      "\n",
      "Download images for Cobitis taenia\n",
      "\n",
      "\n",
      "Download images for Blicca bjoerkna\n",
      "\n",
      "\n",
      "Download images for Abramis brama\n",
      "\n",
      "\n",
      "Download images for Tinca tinca\n",
      "\n",
      "\n",
      "Download images for Thymallus thymallus\n",
      "\n",
      "\n",
      "Download images for Lota lota\n",
      "\n",
      "\n",
      "Download images for Perca fluviatilis\n",
      "\n",
      "\n",
      "Download images for Misgurnus fossilis\n",
      "\n",
      "\n",
      "Download images for Rutilus rutilus\n",
      "\n",
      "\n",
      "Download images for Salmo trutta fario\n",
      "\n",
      "\n",
      "Download images for Salvelinus fontinalis\n",
      "\n",
      "\n",
      "Download images for Rhodeus sericeus amarus\n",
      "\n",
      "\n",
      "Download images for Stizostedion lucioperca\n",
      "\n",
      "\n",
      "Download images for Noemacheilus barbatulus\n",
      "\n",
      "\n",
      "Download images for Phoxinus phoxinus\n",
      "\n",
      "\n",
      "Download images for Silurus glanis\n",
      "\n",
      "\n",
      "Download images for Chondrostoma nasus\n",
      "\n",
      "\n",
      "Download images for Esox lucius\n",
      "\n",
      "\n",
      "Download images for Hypophthalmichthys molitrix\n",
      "\n",
      "\n",
      "Download images for Alburnus alburnus\n",
      "\n",
      "\n",
      "Download images for Anguilla anguilla\n",
      "\n",
      "\n",
      "Download images for Scardinius erythrophthalmus\n",
      "\n",
      "\n"
     ]
    }
   ],
   "source": [
    "from time import sleep\n",
    "\n",
    "\n",
    "sweet_water_species = [\"Ctenopharyngodon idella\"]\n",
    "sweet_water_species_full = [\"Ctenopharyngodon idella\", \"Aspius aspius\", \"Barbus barbus\", \"Vimba vimba\", \"Leuciscus idus\", \"Leuciscus leuciscus\", \"Carassius carassius\", \"Carassius auratus gibelio\", \"Cyprinus carpio\", \"Gobio gobio\", \"Leuciscus cephalus\", \"Cobitis taenia\", \"Blicca bjoerkna\", \"Abramis brama\", \"Tinca tinca\", \"Thymallus thymallus\", \"Lota lota\", \"Perca fluviatilis\", \"Misgurnus fossilis\", \"Rutilus rutilus\", \"Salmo trutta fario\", \"Salvelinus fontinalis\", \"Rhodeus sericeus amarus\", \"Stizostedion lucioperca\", \"Noemacheilus barbatulus\", \"Phoxinus phoxinus\", \"Silurus glanis\", \"Chondrostoma nasus\", \"Esox lucius\", \"Hypophthalmichthys molitrix\", \"Alburnus alburnus\", \"Anguilla anguilla\", \"Scardinius erythrophthalmus\"]\n",
    "\n",
    "path = Path('sweet_water')\n",
    "\n",
    "if not path.exists():\n",
    "    path.mkdir()\n",
    "\n",
    "i = 1\n",
    "\n",
    "for species in sweet_water_species_full:\n",
    "    dest = (path/species.lower().replace(' ', '_'))\n",
    "    dest.mkdir(exist_ok=True)\n",
    "    print(f\"Download images for {species}\")\n",
    "    print(\"\\n\")\n",
    "    response = search_images_bing(BING_API_KEY, species)\n",
    "    download_images(dest, urls=response.attrgot(\"contentUrl\"))\n",
    "    i += 1\n",
    "    if i % 3 == 0:\n",
    "        sleep(1)"
   ]
  },
  {
   "cell_type": "code",
   "execution_count": 8,
   "metadata": {},
   "outputs": [],
   "source": [
    "fns = get_image_files(path)\n",
    "failed = verify_images(fns)\n",
    "\n",
    "failed"
   ]
  },
  {
   "cell_type": "code",
   "execution_count": 10,
   "metadata": {},
   "outputs": [
    {
     "data": {
      "text/plain": [
       "(#27) [None,None,None,None,None,None,None,None,None,None...]"
      ]
     },
     "execution_count": 10,
     "metadata": {},
     "output_type": "execute_result"
    }
   ],
   "source": [
    "failed.map(Path.unlink)"
   ]
  }
 ],
 "metadata": {
  "kernelspec": {
   "display_name": "ml-playground",
   "language": "python",
   "name": "python3"
  },
  "language_info": {
   "codemirror_mode": {
    "name": "ipython",
    "version": 3
   },
   "file_extension": ".py",
   "mimetype": "text/x-python",
   "name": "python",
   "nbconvert_exporter": "python",
   "pygments_lexer": "ipython3",
   "version": "3.11.8"
  }
 },
 "nbformat": 4,
 "nbformat_minor": 2
}
